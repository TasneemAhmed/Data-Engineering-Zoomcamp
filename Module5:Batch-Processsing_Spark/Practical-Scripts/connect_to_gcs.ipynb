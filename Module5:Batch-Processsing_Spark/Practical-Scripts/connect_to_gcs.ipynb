{
 "cells": [
  {
   "cell_type": "code",
   "execution_count": 6,
   "id": "6d6d542a-f748-407d-98aa-5ec7306b3cad",
   "metadata": {},
   "outputs": [],
   "source": [
    "import findspark\n",
    "findspark.init()"
   ]
  },
  {
   "cell_type": "code",
   "execution_count": 8,
   "id": "5c90260e-f4e4-44c7-9dbb-eb49e6820432",
   "metadata": {},
   "outputs": [
    {
     "data": {
      "text/plain": [
       "'C:\\\\tools\\\\spark-3.3.2-bin-hadoop3\\\\python\\\\pyspark\\\\__init__.py'"
      ]
     },
     "execution_count": 8,
     "metadata": {},
     "output_type": "execute_result"
    }
   ],
   "source": [
    "pyspark.__file__"
   ]
  },
  {
   "cell_type": "code",
   "execution_count": 1,
   "id": "05d7428e-b637-4b4a-a6a5-386b87faa6b8",
   "metadata": {},
   "outputs": [],
   "source": [
    "import pyspark\n",
    "from pyspark.sql import SparkSession\n",
    "from pyspark.conf import SparkConf\n",
    "from pyspark.context import SparkContext"
   ]
  },
  {
   "cell_type": "code",
   "execution_count": 2,
   "id": "85b2f856-7019-41b9-b118-fb3e7551f1cd",
   "metadata": {},
   "outputs": [],
   "source": [
    "#set up your configurations before building your SparkSession.\n",
    "\n",
    "google_credentials = \"module5-spark-2534760391ac.json\"\n",
    "\n",
    "conf = SparkConf() \\\n",
    "    .setMaster('local[*]') \\\n",
    "    .setAppName('test') \\\n",
    "    .set(\"spark.jars\", \"C:/tools/spark-3.3.2-bin-hadoop3/jars/gcs-connector-hadoop3-latest.jar\") \\\n",
    "    .set(\"spark.hadoop.google.cloud.auth.service.account.enable\", \"true\") \\\n",
    "    .set(\"spark.hadoop.google.cloud.auth.service.account.json.keyfile\", google_credentials)"
   ]
  },
  {
   "cell_type": "code",
   "execution_count": 4,
   "id": "a2225b85-b7bc-47ed-b044-7183c78d38e0",
   "metadata": {},
   "outputs": [],
   "source": [
    "sc = SparkContext(\"local\", \"Spark_connect_gcs_App\")\n",
    "\n",
    "# set google configurations inside SparkSession\n",
    "hadoop_config = sc._jsc.hadoopConfiguration()\n",
    "\n",
    "hadoop_config.set(\"fs.AbstractFileSystem.gs.impl\",  \"com.google.cloud.hadoop.fs.gcs.GoogleHadoopFS\")\n",
    "hadoop_config.set(\"fs.gs.impl\", \"com.google.cloud.hadoop.fs.gcs.GoogleHadoopFileSystem\")\n",
    "hadoop_config.set(\"fs.gs.auth.service.account.json.keyfile\", google_credentials)\n",
    "hadoop_config.set(\"fs.gs.auth.service.account.enable\", \"true\")"
   ]
  },
  {
   "cell_type": "code",
   "execution_count": 6,
   "id": "33905398-5313-415d-9dfc-c751cf111fff",
   "metadata": {},
   "outputs": [],
   "source": [
    "\n",
    "sc = sc.getOrCreate()\n",
    "#set SparkContext configuration inside SparkSession\n",
    "spark = SparkSession.builder \\\n",
    "    .config(conf=sc.getConf()) \\\n",
    "    .getOrCreate()\n"
   ]
  },
  {
   "cell_type": "code",
   "execution_count": 7,
   "id": "e887d3c0-f76f-457b-adf5-b4145c5ec933",
   "metadata": {},
   "outputs": [
    {
     "name": "stdout",
     "output_type": "stream",
     "text": [
      "<SparkContext master=local appName=Spark_connect_gcs_App>\n"
     ]
    }
   ],
   "source": [
    "print(spark.sparkContext)"
   ]
  },
  {
   "cell_type": "code",
   "execution_count": 8,
   "id": "4374c17e-ba6a-4158-95a8-2660cb1aaf32",
   "metadata": {},
   "outputs": [
    {
     "name": "stdout",
     "output_type": "stream",
     "text": [
      "+----+----+--------------------+--------------------+-------------------+-------------------+\n",
      "|hour|zone|yellow_total_revenue|yellow_count_records|green_total_revenue|green_count_records|\n",
      "+----+----+--------------------+--------------------+-------------------+-------------------+\n",
      "|   0|   1|  416.41999999999996|                   4|               null|               null|\n",
      "|   0|   3|              105.44|                   4|             160.55|                  4|\n",
      "|   0|   4|            15387.09|                 852|               null|               null|\n",
      "|   0|   5|                84.3|                   1|               null|               null|\n",
      "|   0|   7|             4606.79|                 342|  7009.869999999993|                571|\n",
      "|   0|   9|              155.74|                   3|               null|               null|\n",
      "|   0|  10|             3701.91|                  61|             108.91|                  5|\n",
      "|   0|  11|                10.8|                   1|               null|               null|\n",
      "|   0|  12|              596.79|                  22|               null|               null|\n",
      "|   0|  13|  13734.929999999997|                 601|               null|               null|\n",
      "|   0|  14|              248.22|                   8| 246.70000000000002|                  4|\n",
      "|   0|  15|               68.18|                   2|               null|               null|\n",
      "|   0|  16|              199.08|                   7|             174.38|                  5|\n",
      "|   0|  17|              1119.9|                  64|             807.27|                 54|\n",
      "|   0|  18|              114.68|                   8|             535.01|                 12|\n",
      "|   0|  19|               59.46|                   3|               null|               null|\n",
      "|   0|  20|               33.74|                   3|  65.89999999999999|                  8|\n",
      "|   0|  21|                null|                null|              85.15|                  4|\n",
      "|   0|  22|  129.04999999999998|                   6|              99.19|                  4|\n",
      "|   0|  23|                null|                null|               36.0|                  1|\n",
      "+----+----+--------------------+--------------------+-------------------+-------------------+\n",
      "only showing top 20 rows\n",
      "\n"
     ]
    }
   ],
   "source": [
    "df_bucket = spark.read.parquet(\"gs://spark-output-bi-reports/trips_joined_data/*\")\n",
    "df_bucket.show()"
   ]
  },
  {
   "cell_type": "code",
   "execution_count": null,
   "id": "3d00fb88-6a74-41f7-8221-1e4aa7793040",
   "metadata": {},
   "outputs": [],
   "source": []
  }
 ],
 "metadata": {
  "kernelspec": {
   "display_name": "Python 3 (ipykernel)",
   "language": "python",
   "name": "python3"
  },
  "language_info": {
   "codemirror_mode": {
    "name": "ipython",
    "version": 3
   },
   "file_extension": ".py",
   "mimetype": "text/x-python",
   "name": "python",
   "nbconvert_exporter": "python",
   "pygments_lexer": "ipython3",
   "version": "3.11.8"
  }
 },
 "nbformat": 4,
 "nbformat_minor": 5
}
