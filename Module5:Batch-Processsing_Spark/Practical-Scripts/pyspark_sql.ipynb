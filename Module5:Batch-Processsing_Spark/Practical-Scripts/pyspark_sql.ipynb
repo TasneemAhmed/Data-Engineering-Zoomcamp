{
 "cells": [
  {
   "cell_type": "markdown",
   "id": "88a5f92c-878d-4688-b42d-f888d2706287",
   "metadata": {},
   "source": [
    "The cell below to prevent this error to happen when build SparkSession:FileNotFoundError: [WinError 2] The system cannot find the file specified\n",
    " \n"
   ]
  },
  {
   "cell_type": "code",
   "execution_count": 4,
   "id": "5013fe86-6b8d-4271-952f-a4402f4dacf8",
   "metadata": {},
   "outputs": [],
   "source": [
    "import os\n",
    "os.environ['HADOOP_HOME'] = 'C:/tools/hadoop-3.2.0'\n",
    "os.environ['JAVA_HOME'] = 'C:/tools/jdk-11.0.21'\n",
    "os.environ['SPARK_HOME'] = 'C:/tools/spark-3.3.2-bin-hadoop3'"
   ]
  },
  {
   "cell_type": "code",
   "execution_count": 1,
   "id": "05d7428e-b637-4b4a-a6a5-386b87faa6b8",
   "metadata": {},
   "outputs": [],
   "source": [
    "import pyspark\n",
    "from pyspark.sql import SparkSession"
   ]
  },
  {
   "cell_type": "code",
   "execution_count": 2,
   "id": "311f17de-5b4f-4478-8f01-0fbbd0e6c996",
   "metadata": {},
   "outputs": [],
   "source": [
    "from pyspark.sql import functions as f"
   ]
  },
  {
   "cell_type": "markdown",
   "id": "10b6d989-61de-477b-80f1-1311fa8ea9a4",
   "metadata": {},
   "source": [
    "How define/create spark a local spark cluster outside of notebook, some of command as windows way commands:\n",
    "1. Change the working directory to the spark directory: cd %SPARK_HOME%\r",
    "2. To start Spark Master:\n",
    "bin\\spark-class org.apache.spark.deploy.master.Master --host localho\n",
    "3. Starting up a cluster\r\n",
    "bin\\spark-class org.apache.spark.deploy.worker.Worker spark://localhost:7077 --host localst\n",
    "   S start worker in Spark Master Cluster (once this command run; you show CPU cores and Memory increased from \n",
    "   )t\r",
    "- Don't forget to stop worker and master cluste\n",
    "E%\r\n"
   ]
  },
  {
   "cell_type": "code",
   "execution_count": 5,
   "id": "33905398-5313-415d-9dfc-c751cf111fff",
   "metadata": {},
   "outputs": [],
   "source": [
    "spark = SparkSession.builder \\\n",
    "    .master(\"spark://localhost:7077\") \\\n",
    "    .appName('spark-sql') \\\n",
    "    .getOrCreate()"
   ]
  },
  {
   "cell_type": "code",
   "execution_count": 6,
   "id": "12b98686-d6b1-48f0-97e0-e2b273944eaa",
   "metadata": {},
   "outputs": [
    {
     "name": "stdout",
     "output_type": "stream",
     "text": [
      "<SparkContext master=spark://localhost:7077 appName=spark-sql>\n"
     ]
    }
   ],
   "source": [
    "print(spark.sparkContext)"
   ]
  },
  {
   "cell_type": "code",
   "execution_count": 6,
   "id": "8245ba82-fc05-4106-ab64-8901e63949e8",
   "metadata": {},
   "outputs": [],
   "source": [
    "from pyspark.sql import types\n",
    "\n",
    "green_schema = types.StructType([\n",
    "    types.StructField(\"VendorID\", types.IntegerType(), True),\n",
    "    types.StructField(\"lpep_pickup_datetime\", types.TimestampType(), True),\n",
    "    types.StructField(\"lpep_dropoff_datetime\", types.TimestampType(), True),\n",
    "    types.StructField(\"store_and_fwd_flag\", types.StringType(), True),\n",
    "    types.StructField(\"RatecodeID\", types.IntegerType(), True),\n",
    "    types.StructField(\"PULocationID\", types.IntegerType(), True),\n",
    "    types.StructField(\"DOLocationID\", types.IntegerType(), True),\n",
    "    types.StructField(\"passenger_count\", types.IntegerType(), True),\n",
    "    types.StructField(\"trip_distance\", types.DoubleType(), True),\n",
    "    types.StructField(\"fare_amount\", types.DoubleType(), True),\n",
    "    types.StructField(\"extra\", types.DoubleType(), True),\n",
    "    types.StructField(\"mta_tax\", types.DoubleType(), True),\n",
    "    types.StructField(\"tip_amount\", types.DoubleType(), True),\n",
    "    types.StructField(\"tolls_amount\", types.DoubleType(), True),\n",
    "    types.StructField(\"ehail_fee\", types.DoubleType(), True),\n",
    "    types.StructField(\"improvement_surcharge\", types.DoubleType(), True),\n",
    "    types.StructField(\"total_amount\", types.DoubleType(), True),\n",
    "    types.StructField(\"payment_type\", types.IntegerType(), True),\n",
    "    types.StructField(\"trip_type\", types.IntegerType(), True),\n",
    "    types.StructField(\"congestion_surcharge\", types.DoubleType(), True)\n",
    "])\n",
    "\n",
    "yellow_schema = types.StructType([\n",
    "    types.StructField(\"VendorID\", types.IntegerType(), True),\n",
    "    types.StructField(\"tpep_pickup_datetime\", types.TimestampType(), True),\n",
    "    types.StructField(\"tpep_dropoff_datetime\", types.TimestampType(), True),\n",
    "    types.StructField(\"passenger_count\", types.IntegerType(), True),\n",
    "    types.StructField(\"trip_distance\", types.DoubleType(), True),\n",
    "    types.StructField(\"RatecodeID\", types.IntegerType(), True),\n",
    "    types.StructField(\"store_and_fwd_flag\", types.StringType(), True),\n",
    "    types.StructField(\"PULocationID\", types.IntegerType(), True),\n",
    "    types.StructField(\"DOLocationID\", types.IntegerType(), True),\n",
    "    types.StructField(\"payment_type\", types.IntegerType(), True),\n",
    "    types.StructField(\"fare_amount\", types.DoubleType(), True),\n",
    "    types.StructField(\"extra\", types.DoubleType(), True),\n",
    "    types.StructField(\"mta_tax\", types.DoubleType(), True),\n",
    "    types.StructField(\"tip_amount\", types.DoubleType(), True),\n",
    "    types.StructField(\"tolls_amount\", types.DoubleType(), True),\n",
    "    types.StructField(\"improvement_surcharge\", types.DoubleType(), True),\n",
    "    types.StructField(\"total_amount\", types.DoubleType(), True),\n",
    "    types.StructField(\"congestion_surcharge\", types.DoubleType(), True)\n",
    "])"
   ]
  },
  {
   "cell_type": "code",
   "execution_count": 7,
   "id": "fbf7e9d3-92a4-4466-aa49-ff83f27957c1",
   "metadata": {},
   "outputs": [
    {
     "name": "stdout",
     "output_type": "stream",
     "text": [
      "root\n",
      " |-- VendorID: integer (nullable = true)\n",
      " |-- lpep_pickup_datetime: timestamp (nullable = true)\n",
      " |-- lpep_dropoff_datetime: timestamp (nullable = true)\n",
      " |-- store_and_fwd_flag: string (nullable = true)\n",
      " |-- RatecodeID: integer (nullable = true)\n",
      " |-- PULocationID: integer (nullable = true)\n",
      " |-- DOLocationID: integer (nullable = true)\n",
      " |-- passenger_count: integer (nullable = true)\n",
      " |-- trip_distance: double (nullable = true)\n",
      " |-- fare_amount: double (nullable = true)\n",
      " |-- extra: double (nullable = true)\n",
      " |-- mta_tax: double (nullable = true)\n",
      " |-- tip_amount: double (nullable = true)\n",
      " |-- tolls_amount: double (nullable = true)\n",
      " |-- ehail_fee: double (nullable = true)\n",
      " |-- improvement_surcharge: double (nullable = true)\n",
      " |-- total_amount: double (nullable = true)\n",
      " |-- payment_type: integer (nullable = true)\n",
      " |-- trip_type: integer (nullable = true)\n",
      " |-- congestion_surcharge: double (nullable = true)\n",
      "\n"
     ]
    }
   ],
   "source": [
    "#read csv file as spark dataframe\n",
    "green_df = spark.read \\\n",
    "    .option(\"header\", \"true\") \\\n",
    "    .schema(green_schema)\\\n",
    "    .csv(\"green_dataset/green_tripdata_2020-01.csv\")\n",
    "\n",
    "green_df.printSchema()"
   ]
  },
  {
   "cell_type": "code",
   "execution_count": 8,
   "id": "b3ac5ff9-f1ef-4be8-beb6-a311e3992f65",
   "metadata": {},
   "outputs": [
    {
     "data": {
      "text/plain": [
       "['VendorID',\n",
       " 'lpep_pickup_datetime',\n",
       " 'lpep_dropoff_datetime',\n",
       " 'store_and_fwd_flag',\n",
       " 'RatecodeID',\n",
       " 'PULocationID',\n",
       " 'DOLocationID',\n",
       " 'passenger_count',\n",
       " 'trip_distance',\n",
       " 'fare_amount',\n",
       " 'extra',\n",
       " 'mta_tax',\n",
       " 'tip_amount',\n",
       " 'tolls_amount',\n",
       " 'ehail_fee',\n",
       " 'improvement_surcharge',\n",
       " 'total_amount',\n",
       " 'payment_type',\n",
       " 'trip_type',\n",
       " 'congestion_surcharge']"
      ]
     },
     "execution_count": 8,
     "metadata": {},
     "output_type": "execute_result"
    }
   ],
   "source": [
    "green_df.columns"
   ]
  },
  {
   "cell_type": "code",
   "execution_count": 9,
   "id": "ca946935-814f-4a35-97fe-975cd9562b75",
   "metadata": {},
   "outputs": [
    {
     "name": "stdout",
     "output_type": "stream",
     "text": [
      "root\n",
      " |-- VendorID: integer (nullable = true)\n",
      " |-- tpep_pickup_datetime: timestamp (nullable = true)\n",
      " |-- tpep_dropoff_datetime: timestamp (nullable = true)\n",
      " |-- passenger_count: integer (nullable = true)\n",
      " |-- trip_distance: double (nullable = true)\n",
      " |-- RatecodeID: integer (nullable = true)\n",
      " |-- store_and_fwd_flag: string (nullable = true)\n",
      " |-- PULocationID: integer (nullable = true)\n",
      " |-- DOLocationID: integer (nullable = true)\n",
      " |-- payment_type: integer (nullable = true)\n",
      " |-- fare_amount: double (nullable = true)\n",
      " |-- extra: double (nullable = true)\n",
      " |-- mta_tax: double (nullable = true)\n",
      " |-- tip_amount: double (nullable = true)\n",
      " |-- tolls_amount: double (nullable = true)\n",
      " |-- improvement_surcharge: double (nullable = true)\n",
      " |-- total_amount: double (nullable = true)\n",
      " |-- congestion_surcharge: double (nullable = true)\n",
      "\n"
     ]
    }
   ],
   "source": [
    "#read csv file as spark dataframe\n",
    "yellow_df = spark.read \\\n",
    "    .option(\"header\", \"true\") \\\n",
    "    .schema(yellow_schema)\\\n",
    "    .csv(\"yellow_dataset/yellow_tripdata_2020-01.csv\")\n",
    "\n",
    "yellow_df.printSchema()"
   ]
  },
  {
   "cell_type": "code",
   "execution_count": 10,
   "id": "96f03f74-6d41-4e53-8f54-7f0ee6300c39",
   "metadata": {},
   "outputs": [
    {
     "data": {
      "text/plain": [
       "['VendorID',\n",
       " 'tpep_pickup_datetime',\n",
       " 'tpep_dropoff_datetime',\n",
       " 'passenger_count',\n",
       " 'trip_distance',\n",
       " 'RatecodeID',\n",
       " 'store_and_fwd_flag',\n",
       " 'PULocationID',\n",
       " 'DOLocationID',\n",
       " 'payment_type',\n",
       " 'fare_amount',\n",
       " 'extra',\n",
       " 'mta_tax',\n",
       " 'tip_amount',\n",
       " 'tolls_amount',\n",
       " 'improvement_surcharge',\n",
       " 'total_amount',\n",
       " 'congestion_surcharge']"
      ]
     },
     "execution_count": 10,
     "metadata": {},
     "output_type": "execute_result"
    }
   ],
   "source": [
    "yellow_df.columns"
   ]
  },
  {
   "cell_type": "code",
   "execution_count": 11,
   "id": "375a1b64-e075-43de-800e-ece51b3a4f80",
   "metadata": {},
   "outputs": [
    {
     "data": {
      "text/plain": [
       "{'DOLocationID',\n",
       " 'PULocationID',\n",
       " 'RatecodeID',\n",
       " 'VendorID',\n",
       " 'congestion_surcharge',\n",
       " 'extra',\n",
       " 'fare_amount',\n",
       " 'improvement_surcharge',\n",
       " 'mta_tax',\n",
       " 'passenger_count',\n",
       " 'payment_type',\n",
       " 'store_and_fwd_flag',\n",
       " 'tip_amount',\n",
       " 'tolls_amount',\n",
       " 'total_amount',\n",
       " 'trip_distance'}"
      ]
     },
     "execution_count": 11,
     "metadata": {},
     "output_type": "execute_result"
    }
   ],
   "source": [
    "set(green_df.columns) & set(yellow_df.columns)"
   ]
  },
  {
   "cell_type": "code",
   "execution_count": 12,
   "id": "029ff72b-d05b-486e-a28c-8984d20a4022",
   "metadata": {},
   "outputs": [
    {
     "name": "stdout",
     "output_type": "stream",
     "text": [
      "root\n",
      " |-- VendorID: integer (nullable = true)\n",
      " |-- pickup_datetime: timestamp (nullable = true)\n",
      " |-- dropoff_datetime: timestamp (nullable = true)\n",
      " |-- store_and_fwd_flag: string (nullable = true)\n",
      " |-- RatecodeID: integer (nullable = true)\n",
      " |-- PULocationID: integer (nullable = true)\n",
      " |-- DOLocationID: integer (nullable = true)\n",
      " |-- passenger_count: integer (nullable = true)\n",
      " |-- trip_distance: double (nullable = true)\n",
      " |-- fare_amount: double (nullable = true)\n",
      " |-- extra: double (nullable = true)\n",
      " |-- mta_tax: double (nullable = true)\n",
      " |-- tip_amount: double (nullable = true)\n",
      " |-- tolls_amount: double (nullable = true)\n",
      " |-- ehail_fee: double (nullable = true)\n",
      " |-- improvement_surcharge: double (nullable = true)\n",
      " |-- total_amount: double (nullable = true)\n",
      " |-- payment_type: integer (nullable = true)\n",
      " |-- trip_type: integer (nullable = true)\n",
      " |-- congestion_surcharge: double (nullable = true)\n",
      "\n"
     ]
    }
   ],
   "source": [
    "#rename columns of green_df\n",
    "green_df = green_df\\\n",
    ".withColumnRenamed('lpep_pickup_datetime', 'pickup_datetime')\\\n",
    ".withColumnRenamed('lpep_dropoff_datetime', 'dropoff_datetime')\n",
    "\n",
    "green_df.printSchema()"
   ]
  },
  {
   "cell_type": "code",
   "execution_count": 13,
   "id": "0904c456-b2b9-4314-a9e8-3796a217cd98",
   "metadata": {},
   "outputs": [
    {
     "name": "stdout",
     "output_type": "stream",
     "text": [
      "root\n",
      " |-- VendorID: integer (nullable = true)\n",
      " |-- pickup_datetime: timestamp (nullable = true)\n",
      " |-- dropoff_datetime: timestamp (nullable = true)\n",
      " |-- passenger_count: integer (nullable = true)\n",
      " |-- trip_distance: double (nullable = true)\n",
      " |-- RatecodeID: integer (nullable = true)\n",
      " |-- store_and_fwd_flag: string (nullable = true)\n",
      " |-- PULocationID: integer (nullable = true)\n",
      " |-- DOLocationID: integer (nullable = true)\n",
      " |-- payment_type: integer (nullable = true)\n",
      " |-- fare_amount: double (nullable = true)\n",
      " |-- extra: double (nullable = true)\n",
      " |-- mta_tax: double (nullable = true)\n",
      " |-- tip_amount: double (nullable = true)\n",
      " |-- tolls_amount: double (nullable = true)\n",
      " |-- improvement_surcharge: double (nullable = true)\n",
      " |-- total_amount: double (nullable = true)\n",
      " |-- congestion_surcharge: double (nullable = true)\n",
      "\n"
     ]
    }
   ],
   "source": [
    "#rename columns of yellow_df\n",
    "yellow_df = yellow_df\\\n",
    ".withColumnRenamed('tpep_pickup_datetime', 'pickup_datetime')\\\n",
    ".withColumnRenamed('tpep_dropoff_datetime', 'dropoff_datetime')\n",
    "\n",
    "yellow_df.printSchema()"
   ]
  },
  {
   "cell_type": "code",
   "execution_count": 14,
   "id": "ba683d05-3887-4350-b8f5-ef09293fb0eb",
   "metadata": {},
   "outputs": [
    {
     "data": {
      "text/plain": [
       "{'DOLocationID',\n",
       " 'PULocationID',\n",
       " 'RatecodeID',\n",
       " 'VendorID',\n",
       " 'congestion_surcharge',\n",
       " 'dropoff_datetime',\n",
       " 'extra',\n",
       " 'fare_amount',\n",
       " 'improvement_surcharge',\n",
       " 'mta_tax',\n",
       " 'passenger_count',\n",
       " 'payment_type',\n",
       " 'pickup_datetime',\n",
       " 'store_and_fwd_flag',\n",
       " 'tip_amount',\n",
       " 'tolls_amount',\n",
       " 'total_amount',\n",
       " 'trip_distance'}"
      ]
     },
     "execution_count": 14,
     "metadata": {},
     "output_type": "execute_result"
    }
   ],
   "source": [
    "set(green_df.columns) & set(yellow_df.columns)"
   ]
  },
  {
   "cell_type": "code",
   "execution_count": 14,
   "id": "508cd364-07f2-45ab-ba73-6e6e59975dc1",
   "metadata": {},
   "outputs": [
    {
     "name": "stdout",
     "output_type": "stream",
     "text": [
      "['VendorID', 'pickup_datetime', 'dropoff_datetime', 'store_and_fwd_flag', 'RatecodeID', 'PULocationID', 'DOLocationID', 'passenger_count', 'trip_distance', 'fare_amount', 'extra', 'mta_tax', 'tip_amount', 'tolls_amount', 'improvement_surcharge', 'total_amount', 'payment_type', 'congestion_surcharge']\n"
     ]
    }
   ],
   "source": [
    "common_columns = []\n",
    "\n",
    "for col in green_df.columns:\n",
    "    if col in yellow_df.columns:\n",
    "        common_columns.append(col)\n",
    "\n",
    "print(common_columns)"
   ]
  },
  {
   "cell_type": "code",
   "execution_count": 15,
   "id": "1e855faa-7b14-468d-a4ff-b6b8727657be",
   "metadata": {},
   "outputs": [
    {
     "name": "stdout",
     "output_type": "stream",
     "text": [
      "root\n",
      " |-- VendorID: integer (nullable = true)\n",
      " |-- pickup_datetime: timestamp (nullable = true)\n",
      " |-- dropoff_datetime: timestamp (nullable = true)\n",
      " |-- store_and_fwd_flag: string (nullable = true)\n",
      " |-- RatecodeID: integer (nullable = true)\n",
      " |-- PULocationID: integer (nullable = true)\n",
      " |-- DOLocationID: integer (nullable = true)\n",
      " |-- passenger_count: integer (nullable = true)\n",
      " |-- trip_distance: double (nullable = true)\n",
      " |-- fare_amount: double (nullable = true)\n",
      " |-- extra: double (nullable = true)\n",
      " |-- mta_tax: double (nullable = true)\n",
      " |-- tip_amount: double (nullable = true)\n",
      " |-- tolls_amount: double (nullable = true)\n",
      " |-- improvement_surcharge: double (nullable = true)\n",
      " |-- total_amount: double (nullable = true)\n",
      " |-- payment_type: integer (nullable = true)\n",
      " |-- congestion_surcharge: double (nullable = true)\n",
      " |-- service_type: string (nullable = false)\n",
      "\n"
     ]
    }
   ],
   "source": [
    "#add new column which 'service_type', PySpark lit() function is used to add a constant value to a DataFrame column.\n",
    "df_green_select = green_df\\\n",
    ".select(common_columns)\\\n",
    ".withColumn('service_type', f.lit('Green'))\n",
    "\n",
    "df_green_select.printSchema()"
   ]
  },
  {
   "cell_type": "code",
   "execution_count": 17,
   "id": "fab40ade-95fc-4c3a-9961-c5f87c7b8c7e",
   "metadata": {},
   "outputs": [
    {
     "name": "stdout",
     "output_type": "stream",
     "text": [
      "root\n",
      " |-- VendorID: integer (nullable = true)\n",
      " |-- pickup_datetime: timestamp (nullable = true)\n",
      " |-- dropoff_datetime: timestamp (nullable = true)\n",
      " |-- store_and_fwd_flag: string (nullable = true)\n",
      " |-- RatecodeID: integer (nullable = true)\n",
      " |-- PULocationID: integer (nullable = true)\n",
      " |-- DOLocationID: integer (nullable = true)\n",
      " |-- passenger_count: integer (nullable = true)\n",
      " |-- trip_distance: double (nullable = true)\n",
      " |-- fare_amount: double (nullable = true)\n",
      " |-- extra: double (nullable = true)\n",
      " |-- mta_tax: double (nullable = true)\n",
      " |-- tip_amount: double (nullable = true)\n",
      " |-- tolls_amount: double (nullable = true)\n",
      " |-- improvement_surcharge: double (nullable = true)\n",
      " |-- total_amount: double (nullable = true)\n",
      " |-- payment_type: integer (nullable = true)\n",
      " |-- congestion_surcharge: double (nullable = true)\n",
      " |-- service_type: string (nullable = false)\n",
      "\n"
     ]
    }
   ],
   "source": [
    "#add new column which 'service_type', PySpark lit() function is used to add a constant value to a DataFrame column.\n",
    "df_yellow_select = yellow_df\\\n",
    ".select(common_columns)\\\n",
    ".withColumn('service_type', f.lit('Yellow'))\n",
    "\n",
    "df_yellow_select.printSchema()"
   ]
  },
  {
   "cell_type": "code",
   "execution_count": 18,
   "id": "4009779e-3b09-4d13-8870-874bb6b6d39b",
   "metadata": {},
   "outputs": [
    {
     "name": "stdout",
     "output_type": "stream",
     "text": [
      "+--------+-------------------+-------------------+------------------+----------+------------+------------+---------------+-------------+-----------+-----+-------+----------+------------+---------------------+------------+------------+--------------------+------------+\n",
      "|VendorID|    pickup_datetime|   dropoff_datetime|store_and_fwd_flag|RatecodeID|PULocationID|DOLocationID|passenger_count|trip_distance|fare_amount|extra|mta_tax|tip_amount|tolls_amount|improvement_surcharge|total_amount|payment_type|congestion_surcharge|service_type|\n",
      "+--------+-------------------+-------------------+------------------+----------+------------+------------+---------------+-------------+-----------+-----+-------+----------+------------+---------------------+------------+------------+--------------------+------------+\n",
      "|       2|2019-12-18 15:52:30|2019-12-18 15:54:39|                 N|         1|         264|         264|              5|          0.0|        3.5|  0.5|    0.5|      0.01|         0.0|                  0.3|        4.81|           1|                 0.0|       Green|\n",
      "|       2|2020-01-01 00:45:58|2020-01-01 00:56:39|                 N|         5|          66|          65|              2|         1.28|       20.0|  0.0|    0.0|      4.06|         0.0|                  0.3|       24.36|           1|                 0.0|       Green|\n",
      "|       2|2020-01-01 00:41:38|2020-01-01 00:52:49|                 N|         1|         181|         228|              1|         2.47|       10.5|  0.5|    0.5|      3.54|         0.0|                  0.3|       15.34|           1|                 0.0|       Green|\n",
      "|       1|2020-01-01 00:52:46|2020-01-01 01:14:21|                 N|         1|         129|         263|              2|          6.3|       21.0| 3.25|    0.5|       0.0|         0.0|                  0.3|       25.05|           2|                2.75|       Green|\n",
      "|       1|2020-01-01 00:19:57|2020-01-01 00:30:56|                 N|         1|         210|         150|              1|          2.3|       10.0|  0.5|    0.5|       0.0|         0.0|                  0.3|        11.3|           1|                 0.0|       Green|\n",
      "|       1|2020-01-01 00:52:33|2020-01-01 01:09:54|                 N|         1|          35|          39|              1|          3.0|       13.5|  0.5|    0.5|       0.0|         0.0|                  0.3|        14.8|           1|                 0.0|       Green|\n",
      "|       2|2020-01-01 00:10:18|2020-01-01 00:22:16|                 N|         1|          25|          61|              1|         2.77|       11.0|  0.5|    0.5|       0.0|         0.0|                  0.3|        12.3|           2|                 0.0|       Green|\n",
      "|       2|2020-01-01 01:03:14|2020-01-01 01:29:45|                 N|         1|         225|          89|              1|         4.98|       20.5|  0.5|    0.5|       0.0|         0.0|                  0.3|        21.8|           2|                 0.0|       Green|\n",
      "|       2|2020-01-01 00:04:11|2020-01-01 00:09:48|                 N|         1|         129|         129|              1|         0.71|        5.5|  0.5|    0.5|       0.0|         0.0|                  0.3|         6.8|           2|                 0.0|       Green|\n",
      "|       2|2020-01-01 00:25:52|2020-01-01 00:32:16|                 N|         1|         129|          83|              1|          0.8|        5.5|  0.5|    0.5|       0.0|         0.0|                  0.3|         6.8|           2|                 0.0|       Green|\n",
      "|       2|2020-01-01 00:47:32|2020-01-01 00:59:25|                 N|         1|          82|         173|              1|         1.52|        9.5|  0.5|    0.5|       0.0|         0.0|                  0.3|        10.8|           2|                 0.0|       Green|\n",
      "|       1|2020-01-01 00:26:40|2020-01-01 00:40:42|                 N|         1|          74|          69|              1|          3.8|       14.0|  0.5|    0.5|       0.0|         0.0|                  0.3|        15.3|           2|                 0.0|       Green|\n",
      "|       2|2020-01-01 00:38:47|2020-01-01 00:46:02|                 N|         1|          74|          41|              1|         1.12|        6.5|  0.5|    0.5|       0.0|         0.0|                  0.3|         7.8|           1|                 0.0|       Green|\n",
      "|       2|2020-01-01 00:52:18|2020-01-01 01:09:58|                 N|         1|          41|         127|              1|         5.67|       19.0|  0.5|    0.5|       0.0|         0.0|                  0.3|        20.3|           2|                 0.0|       Green|\n",
      "|       2|2020-01-01 00:16:01|2020-01-01 00:26:40|                 N|         1|           7|         260|              1|         1.86|        9.5|  0.5|    0.5|       0.0|         0.0|                  0.3|        10.8|           2|                 0.0|       Green|\n",
      "|       2|2020-01-01 00:21:15|2020-01-01 00:28:03|                 N|         1|           7|           7|              1|         1.42|        7.0|  0.5|    0.5|       0.0|         0.0|                  0.3|         8.3|           2|                 0.0|       Green|\n",
      "|       2|2020-01-01 00:35:42|2020-01-01 01:02:00|                 N|         1|           7|         133|              1|        15.48|       43.0|  0.5|    0.5|      8.86|         0.0|                  0.3|       53.16|           1|                 0.0|       Green|\n",
      "|       2|2020-01-01 00:39:51|2020-01-01 00:42:54|                 N|         1|         134|          28|              1|         1.15|        5.5|  0.5|    0.5|       1.0|         0.0|                  0.3|         7.8|           1|                 0.0|       Green|\n",
      "|       1|2020-01-01 00:00:21|2020-01-01 00:10:19|                 N|         1|          89|          39|              1|          2.3|       10.0|  0.5|    0.5|       0.0|         0.0|                  0.3|        11.3|           2|                 0.0|       Green|\n",
      "|       1|2020-01-01 00:13:59|2020-01-01 00:21:31|                 N|         1|          66|          65|              3|          1.0|        6.5|  0.5|    0.5|       0.0|         0.0|                  0.3|         7.8|           2|                 0.0|       Green|\n",
      "+--------+-------------------+-------------------+------------------+----------+------------+------------+---------------+-------------+-----------+-----+-------+----------+------------+---------------------+------------+------------+--------------------+------------+\n",
      "only showing top 20 rows\n",
      "\n"
     ]
    }
   ],
   "source": [
    "# union all the two dataframes\n",
    "df_trips_data = df_green_select.unionAll(df_yellow_select)\n",
    "df_trips_data.show()"
   ]
  },
  {
   "cell_type": "code",
   "execution_count": 19,
   "id": "24eb1f77-a0d0-463a-9741-461c750ff57a",
   "metadata": {},
   "outputs": [
    {
     "name": "stdout",
     "output_type": "stream",
     "text": [
      "+------------+-------+\n",
      "|service_type|  count|\n",
      "+------------+-------+\n",
      "|       Green| 447770|\n",
      "|      Yellow|6405008|\n",
      "+------------+-------+\n",
      "\n"
     ]
    }
   ],
   "source": [
    "df_trips_data.groupby('service_type').count()\\\n",
    ".show()"
   ]
  },
  {
   "cell_type": "code",
   "execution_count": 20,
   "id": "7a80f0bb-bab0-4d17-9e79-a11b6d3937ad",
   "metadata": {},
   "outputs": [],
   "source": [
    "df_trips_data.createOrReplaceTempView('trips_table')"
   ]
  },
  {
   "cell_type": "code",
   "execution_count": 21,
   "id": "819d8e7c-2c8b-441d-ae2c-9225a5be5ac2",
   "metadata": {},
   "outputs": [
    {
     "name": "stdout",
     "output_type": "stream",
     "text": [
      "+------------+--------+\n",
      "|service_type|count(1)|\n",
      "+------------+--------+\n",
      "|       Green|  447770|\n",
      "|      Yellow| 6405008|\n",
      "+------------+--------+\n",
      "\n"
     ]
    }
   ],
   "source": [
    "spark.sql(\"\"\"select service_type, count(1)\n",
    "from \n",
    "    trips_table\n",
    "group by \n",
    "    service_type\"\"\").show()"
   ]
  },
  {
   "cell_type": "code",
   "execution_count": 22,
   "id": "152db06e-9c02-4202-b3a9-fe28047b205c",
   "metadata": {},
   "outputs": [
    {
     "name": "stdout",
     "output_type": "stream",
     "text": [
      "+------------+-------------------+------------+--------------------+---------------------+-----------------------+--------------------------+----------------------------+-------------------------------------+----------------------------+------------------------------------+--------------------------+------------------------+\n",
      "|revenue_zone|      revenue_month|service_type|revenue_monthly_fare|revenue_monthly_extra|revenue_monthly_mta_tax|revenue_monthly_tip_amount|revenue_monthly_tolls_amount|revenue_monthly_improvement_surcharge|revenue_monthly_total_amount|revenue_monthly_congestion_surcharge|avg_montly_passenger_count|avg_montly_trip_distance|\n",
      "+------------+-------------------+------------+--------------------+---------------------+-----------------------+--------------------------+----------------------------+-------------------------------------+----------------------------+------------------------------------+--------------------------+------------------------+\n",
      "|          33|2020-01-01 00:00:00|       Green|   155230.3800000001|              6140.75|                 4757.0|        18298.059999999994|                      660.71|                    3095.100000000062|          194160.69999999803|                              6190.5|        1.2879223963330135|      3.4087194832335888|\n",
      "|         160|2020-01-01 00:00:00|       Green|             7639.55|                521.0|                   69.5|        48.400000000000006|                      227.19|                    92.70000000000009|           8610.839999999998|                                8.25|        1.2783505154639174|      3.9445266272189343|\n",
      "|         168|2020-01-01 00:00:00|       Green|   32624.01000000001|               2020.5|                  471.5|                     421.8|           936.7500000000002|                     458.099999999999|           37065.51000000002|                               110.0|        1.1811680572109655|       4.530553901131626|\n",
      "|           1|2020-01-01 00:00:00|       Green|               391.0|                  0.0|                    0.0|                     74.41|                         0.0|                                  1.2|                      466.61|                                 0.0|                      1.25|                     0.0|\n",
      "|         260|2020-01-01 00:00:00|       Green|            88645.79|              3676.75|                 3632.0|         7702.620000000003|           801.2600000000001|                   2285.1000000000395|          107455.21999999903|                              742.25|        1.5758193934448523|      2.5840975736343594|\n",
      "|          28|2020-01-01 00:00:00|       Green|  16996.980000000007|                933.0|                  140.5|        251.15999999999997|                      318.99|                   187.79999999999995|          18853.079999999994|                                11.0|        1.3952569169960474|       5.508122270742357|\n",
      "|         220|2020-01-01 00:00:00|       Green|  20759.589999999993|               1272.0|                  214.0|                    353.94|           788.9100000000007|                   219.29999999999978|           23677.43999999999|                                60.5|                     1.075|       6.078499999999998|\n",
      "|         191|2020-01-01 00:00:00|       Green|   24836.61999999999|              1235.25|                  144.0|         9.969999999999999|           411.5300000000001|                   218.39999999999958|           26858.51999999999|                                2.75|        1.2651162790697674|       8.111508951406652|\n",
      "|         115|2020-01-01 00:00:00|       Green|             1960.14|                 29.0|                   14.0|                       0.0|                      434.52|                                 11.1|                     2448.76|                                 0.0|                      1.52|      14.539487179487178|\n",
      "|          66|2020-01-01 00:00:00|       Green|            99963.99|               4168.0|                 3157.0|        16149.060000000007|                      228.81|                   1941.6000000000279|          131787.15999999925|                              7182.0|        1.4764687302590018|       3.823082202226629|\n",
      "|         217|2020-01-01 00:00:00|       Green|             7338.41|                423.5|                   98.5|                     82.83|                      137.88|                    91.20000000000005|                     8200.17|                               24.75|        1.1933333333333334|       4.819556213017751|\n",
      "|         139|2020-01-01 00:00:00|       Green|  13872.049999999992|               944.25|                   61.5|                      4.79|          353.42000000000013|                   125.99999999999996|           15363.96000000001|                                 0.0|        1.3448275862068966|       7.528632478632477|\n",
      "|          41|2020-01-01 00:00:00|       Green|   241287.3900000001|              11204.0|                11127.5|        21337.230000000003|           3399.210000000002|                     6995.09999999968|          305592.62999999756|                             11485.0|        1.2222868650704857|      2.1482857626115264|\n",
      "|         107|2020-01-01 00:00:00|       Green|   4348.849999999999|               299.75|                  16.55|                       2.5|                      247.09|                    41.70000000000003|           4956.439999999999|                                2.75|                       1.2|       8.247588652482271|\n",
      "|          41|2019-12-01 00:00:00|       Green|                20.5|                  1.5|                    1.5|                       0.0|                         0.0|                   0.8999999999999999|          27.150000000000002|                                2.75|                       1.0|      1.2633333333333334|\n",
      "|         254|2020-01-01 00:00:00|       Green|  35814.499999999985|              2336.75|                  215.0|                     11.26|          1600.8500000000008|                    352.4999999999985|           40336.71000000002|                                 0.0|        1.2430939226519337|       7.236776669224866|\n",
      "|         178|2020-01-01 00:00:00|       Green|              4800.8|               266.25|                   40.5|                      4.16|          124.45999999999998|                    50.70000000000003|           5288.819999999999|                                 0.0|        1.2682926829268293|       4.158229665071769|\n",
      "|         215|2020-01-01 00:00:00|       Green|            32751.54|               1993.5|                  150.0|                     47.47|           862.3900000000003|                   320.09999999999843|          36126.950000000004|                                 0.0|        1.2023121387283238|       6.570331588132636|\n",
      "|         121|2020-01-01 00:00:00|       Green|  18831.289999999994|               1216.5|                  128.0|        196.23999999999998|          230.40000000000003|                    227.6999999999996|          20848.479999999996|                                2.75|        1.1111111111111112|                   4.545|\n",
      "|          35|2020-01-01 00:00:00|       Green|   51364.22999999997|              3498.25|                  422.0|                     33.81|          1007.9800000000002|                                538.5|           56871.42000000003|                                 5.5|        1.1042183622828785|       5.437524084778416|\n",
      "+------------+-------------------+------------+--------------------+---------------------+-----------------------+--------------------------+----------------------------+-------------------------------------+----------------------------+------------------------------------+--------------------------+------------------------+\n",
      "only showing top 20 rows\n",
      "\n"
     ]
    }
   ],
   "source": [
    "df_result = spark.sql(\"\"\"\n",
    "SELECT \n",
    "    -- Reveneue grouping \n",
    "    PULocationID AS revenue_zone,\n",
    "    date_trunc('month', pickup_datetime) AS revenue_month, \n",
    "    service_type, \n",
    "\n",
    "    -- Revenue calculation \n",
    "    SUM(fare_amount) AS revenue_monthly_fare,\n",
    "    SUM(extra) AS revenue_monthly_extra,\n",
    "    SUM(mta_tax) AS revenue_monthly_mta_tax,\n",
    "    SUM(tip_amount) AS revenue_monthly_tip_amount,\n",
    "    SUM(tolls_amount) AS revenue_monthly_tolls_amount,\n",
    "    SUM(improvement_surcharge) AS revenue_monthly_improvement_surcharge,\n",
    "    SUM(total_amount) AS revenue_monthly_total_amount,\n",
    "    SUM(congestion_surcharge) AS revenue_monthly_congestion_surcharge,\n",
    "\n",
    "    -- Additional calculations\n",
    "    AVG(passenger_count) AS avg_montly_passenger_count,\n",
    "    AVG(trip_distance) AS avg_montly_trip_distance\n",
    "FROM\n",
    "    trips_table\n",
    "GROUP BY\n",
    "    1, 2, 3\n",
    "\"\"\")\n",
    "\n",
    "df_result.show()"
   ]
  },
  {
   "cell_type": "code",
   "execution_count": 23,
   "id": "cfcab522-696f-4cef-874e-ee9f8de03898",
   "metadata": {},
   "outputs": [],
   "source": [
    "output = \"C:/Users/LENOVO/Desktop/Data-Engineering-Zoomcamp/Module5-Batch_Processing_Spark/data/report/revenue/\""
   ]
  },
  {
   "cell_type": "code",
   "execution_count": 24,
   "id": "21e3d252-7a8d-46ab-b4a2-98bde3480060",
   "metadata": {},
   "outputs": [
    {
     "name": "stdout",
     "output_type": "stream",
     "text": [
      "C:/Users/LENOVO/Desktop/Data-Engineering-Zoomcamp/Module5-Batch_Processing_Spark/data/report/revenue/\n"
     ]
    }
   ],
   "source": [
    "print(output)"
   ]
  },
  {
   "cell_type": "code",
   "execution_count": 25,
   "id": "834a2e7d-aded-40a0-8d75-420d842cacd9",
   "metadata": {},
   "outputs": [],
   "source": [
    "df_result.coalesce(1) \\\n",
    "    .write.csv(output, mode='overwrite')"
   ]
  },
  {
   "cell_type": "code",
   "execution_count": 26,
   "id": "01468748-6067-4b25-8778-a28c413ad692",
   "metadata": {},
   "outputs": [
    {
     "data": {
      "text/plain": [
       "['VendorID',\n",
       " 'pickup_datetime',\n",
       " 'dropoff_datetime',\n",
       " 'store_and_fwd_flag',\n",
       " 'RatecodeID',\n",
       " 'PULocationID',\n",
       " 'DOLocationID',\n",
       " 'passenger_count',\n",
       " 'trip_distance',\n",
       " 'fare_amount',\n",
       " 'extra',\n",
       " 'mta_tax',\n",
       " 'tip_amount',\n",
       " 'tolls_amount',\n",
       " 'ehail_fee',\n",
       " 'improvement_surcharge',\n",
       " 'total_amount',\n",
       " 'payment_type',\n",
       " 'trip_type',\n",
       " 'congestion_surcharge']"
      ]
     },
     "execution_count": 26,
     "metadata": {},
     "output_type": "execute_result"
    }
   ],
   "source": [
    "green_df.columns"
   ]
  },
  {
   "cell_type": "code",
   "execution_count": 28,
   "id": "66dca62b-e584-4899-bccc-0ae9a51df797",
   "metadata": {},
   "outputs": [],
   "source": [
    "green_df.createOrReplaceTempView('green_df_revenue')"
   ]
  },
  {
   "cell_type": "code",
   "execution_count": 29,
   "id": "006c2104-6ad3-4d79-9e71-1446548737a9",
   "metadata": {},
   "outputs": [
    {
     "data": {
      "text/plain": [
       "4950"
      ]
     },
     "execution_count": 29,
     "metadata": {},
     "output_type": "execute_result"
    }
   ],
   "source": [
    "green_df_revenue = spark.sql(\"\"\"\n",
    "select\n",
    "    extract(HOUR FROM pickup_datetime) as hour,\n",
    "    PULocationID as zone,\n",
    "    sum(total_amount) as total_revenue,\n",
    "    count(1) as count_records\n",
    "from \n",
    "    green_df_revenue\n",
    "group by 1, 2\n",
    "order by 3 desc\n",
    "\"\"\")\n",
    "\n",
    "green_df_revenue.count()"
   ]
  },
  {
   "cell_type": "code",
   "execution_count": 30,
   "id": "3fbe93ee-8804-470c-9b97-15626d740d3c",
   "metadata": {},
   "outputs": [],
   "source": [
    "green_df_revenue\\\n",
    ".repartition(20)\\\n",
    ".write.format(\"parquet\").mode('overwrite').save(\"trips_report/revenue/green\")"
   ]
  },
  {
   "cell_type": "code",
   "execution_count": 31,
   "id": "50fabe11-24cd-42fc-b3cc-1b768cff7aaf",
   "metadata": {},
   "outputs": [
    {
     "data": {
      "text/plain": [
       "['VendorID',\n",
       " 'pickup_datetime',\n",
       " 'dropoff_datetime',\n",
       " 'passenger_count',\n",
       " 'trip_distance',\n",
       " 'RatecodeID',\n",
       " 'store_and_fwd_flag',\n",
       " 'PULocationID',\n",
       " 'DOLocationID',\n",
       " 'payment_type',\n",
       " 'fare_amount',\n",
       " 'extra',\n",
       " 'mta_tax',\n",
       " 'tip_amount',\n",
       " 'tolls_amount',\n",
       " 'improvement_surcharge',\n",
       " 'total_amount',\n",
       " 'congestion_surcharge']"
      ]
     },
     "execution_count": 31,
     "metadata": {},
     "output_type": "execute_result"
    }
   ],
   "source": [
    "yellow_df.columns"
   ]
  },
  {
   "cell_type": "code",
   "execution_count": 32,
   "id": "4d71f339-f0d6-497d-85a5-09e42da93a88",
   "metadata": {},
   "outputs": [],
   "source": [
    "yellow_df.createOrReplaceTempView('yellow_table_revenue')"
   ]
  },
  {
   "cell_type": "code",
   "execution_count": 33,
   "id": "a69b60e4-f0e0-4693-baf4-9b26da7ad0a6",
   "metadata": {},
   "outputs": [
    {
     "data": {
      "text/plain": [
       "5575"
      ]
     },
     "execution_count": 33,
     "metadata": {},
     "output_type": "execute_result"
    }
   ],
   "source": [
    "yellow_df_revenue = spark.sql(\"\"\"\n",
    "select\n",
    "    extract(HOUR FROM pickup_datetime) as hour,\n",
    "    PULocationID as zone,\n",
    "    sum(total_amount) as total_revenue,\n",
    "    count(1) as count_records\n",
    "from \n",
    "    yellow_table_revenue\n",
    "group by 1, 2\n",
    "order by 3 desc\n",
    "\"\"\")\n",
    "\n",
    "yellow_df_revenue.count()"
   ]
  },
  {
   "cell_type": "code",
   "execution_count": 35,
   "id": "9b1e5002-7194-43af-9adb-db4051f6df45",
   "metadata": {},
   "outputs": [],
   "source": [
    "yellow_df_revenue\\\n",
    ".repartition(20)\\\n",
    ".write.format(\"parquet\").mode(\"overwrite\").save(\"trips_report/revenue/yellow\")"
   ]
  },
  {
   "cell_type": "code",
   "execution_count": 52,
   "id": "d59d279e-4bea-434c-91b4-99ecd81fc50c",
   "metadata": {},
   "outputs": [],
   "source": [
    "green_df_revenue = spark.read.parquet('trips_report/revenue/green')\n",
    "yellow_df_revenue = spark.read.parquet('trips_report/revenue/yellow')"
   ]
  },
  {
   "cell_type": "code",
   "execution_count": 36,
   "id": "b9b4aecb-96f9-4ef0-91f6-f341143d5c54",
   "metadata": {},
   "outputs": [],
   "source": [
    "yellow_df_tmp = yellow_df_revenue\\\n",
    ".withColumnRenamed('total_revenue', 'yellow_total_revenue')\\\n",
    ".withColumnRenamed('count_records', 'yellow_count_records')\n",
    "\n",
    "green_df_tmp = green_df_revenue\\\n",
    ".withColumnRenamed('total_revenue', 'green_total_revenue')\\\n",
    ".withColumnRenamed('count_records', 'green_count_records')"
   ]
  },
  {
   "cell_type": "code",
   "execution_count": 37,
   "id": "924b2ce7-be8d-42f8-be6c-34c9cec7a9fb",
   "metadata": {},
   "outputs": [
    {
     "name": "stdout",
     "output_type": "stream",
     "text": [
      "+----+----+--------------------+--------------------+-------------------+-------------------+\n",
      "|hour|zone|yellow_total_revenue|yellow_count_records|green_total_revenue|green_count_records|\n",
      "+----+----+--------------------+--------------------+-------------------+-------------------+\n",
      "|0   |1   |416.41999999999996  |4                   |null               |null               |\n",
      "|0   |3   |105.44              |4                   |160.55             |4                  |\n",
      "|0   |4   |15387.09            |852                 |null               |null               |\n",
      "|0   |5   |84.3                |1                   |null               |null               |\n",
      "|0   |7   |4606.79             |342                 |7009.869999999993  |571                |\n",
      "|0   |9   |155.74              |3                   |null               |null               |\n",
      "|0   |10  |3701.91             |61                  |108.91             |5                  |\n",
      "|0   |11  |10.8                |1                   |null               |null               |\n",
      "|0   |12  |596.79              |22                  |null               |null               |\n",
      "|0   |13  |13734.929999999997  |601                 |null               |null               |\n",
      "|0   |14  |248.22              |8                   |246.70000000000002 |4                  |\n",
      "|0   |15  |68.18               |2                   |null               |null               |\n",
      "|0   |16  |199.08              |7                   |174.38             |5                  |\n",
      "|0   |17  |1119.9              |64                  |807.27             |54                 |\n",
      "|0   |18  |114.68              |8                   |535.01             |12                 |\n",
      "|0   |19  |59.46               |3                   |null               |null               |\n",
      "|0   |20  |33.74               |3                   |65.89999999999999  |8                  |\n",
      "|0   |21  |null                |null                |85.15              |4                  |\n",
      "|0   |22  |129.04999999999998  |6                   |99.19              |4                  |\n",
      "|0   |23  |null                |null                |36.0               |1                  |\n",
      "+----+----+--------------------+--------------------+-------------------+-------------------+\n",
      "only showing top 20 rows\n",
      "\n"
     ]
    }
   ],
   "source": [
    "# Full Outer join: Returns all rows from both DataFrames, including matching and non-matching rows.\n",
    "df_join = yellow_df_tmp.join(green_df_tmp,on=['hour', 'zone'],how=\"outer\") \n",
    "df_join.show(truncate=False)"
   ]
  },
  {
   "cell_type": "code",
   "execution_count": 39,
   "id": "d8140ebd-9b96-483e-8fc3-4e2dba85607b",
   "metadata": {},
   "outputs": [],
   "source": [
    "df_join.write.mode(\"overwrite\").parquet('data/trips_joined_data')"
   ]
  },
  {
   "cell_type": "code",
   "execution_count": 40,
   "id": "4c3e88b2-ab56-46df-a48d-58b54f0827b9",
   "metadata": {},
   "outputs": [
    {
     "name": "stdout",
     "output_type": "stream",
     "text": [
      "+----------+-------------+--------------------+------------+\n",
      "|LocationID|      Borough|                Zone|service_zone|\n",
      "+----------+-------------+--------------------+------------+\n",
      "|         1|          EWR|      Newark Airport|         EWR|\n",
      "|         2|       Queens|         Jamaica Bay|   Boro Zone|\n",
      "|         3|        Bronx|Allerton/Pelham G...|   Boro Zone|\n",
      "|         4|    Manhattan|       Alphabet City| Yellow Zone|\n",
      "|         5|Staten Island|       Arden Heights|   Boro Zone|\n",
      "|         6|Staten Island|Arrochar/Fort Wad...|   Boro Zone|\n",
      "|         7|       Queens|             Astoria|   Boro Zone|\n",
      "|         8|       Queens|        Astoria Park|   Boro Zone|\n",
      "|         9|       Queens|          Auburndale|   Boro Zone|\n",
      "|        10|       Queens|        Baisley Park|   Boro Zone|\n",
      "|        11|     Brooklyn|          Bath Beach|   Boro Zone|\n",
      "|        12|    Manhattan|        Battery Park| Yellow Zone|\n",
      "|        13|    Manhattan|   Battery Park City| Yellow Zone|\n",
      "|        14|     Brooklyn|           Bay Ridge|   Boro Zone|\n",
      "|        15|       Queens|Bay Terrace/Fort ...|   Boro Zone|\n",
      "|        16|       Queens|             Bayside|   Boro Zone|\n",
      "|        17|     Brooklyn|             Bedford|   Boro Zone|\n",
      "|        18|        Bronx|        Bedford Park|   Boro Zone|\n",
      "|        19|       Queens|           Bellerose|   Boro Zone|\n",
      "|        20|        Bronx|             Belmont|   Boro Zone|\n",
      "+----------+-------------+--------------------+------------+\n",
      "only showing top 20 rows\n",
      "\n"
     ]
    }
   ],
   "source": [
    "# read zones file\n",
    "zones_df = spark.read\\\n",
    ".option(\"header\", \"true\")\\\n",
    ".csv('taxi+_zone_lookup.csv')\n",
    "zones_df.show()"
   ]
  },
  {
   "cell_type": "code",
   "execution_count": 41,
   "id": "ce1d7c1b-2afc-482e-b47f-b892efc64d15",
   "metadata": {},
   "outputs": [],
   "source": [
    "# Inner join: Returns only matched rows between two dataframes\n",
    "zones_df_join = df_join.join(zones_df, df_join.zone == zones_df.LocationID , how=\"inner\") "
   ]
  },
  {
   "cell_type": "code",
   "execution_count": 42,
   "id": "efa7987d-c646-47b3-8ae3-5b3002aa50b5",
   "metadata": {},
   "outputs": [
    {
     "name": "stdout",
     "output_type": "stream",
     "text": [
      "root\n",
      " |-- hour: integer (nullable = true)\n",
      " |-- zone: integer (nullable = true)\n",
      " |-- yellow_total_revenue: double (nullable = true)\n",
      " |-- yellow_count_records: long (nullable = true)\n",
      " |-- green_total_revenue: double (nullable = true)\n",
      " |-- green_count_records: long (nullable = true)\n",
      " |-- LocationID: string (nullable = true)\n",
      " |-- Borough: string (nullable = true)\n",
      " |-- Zone: string (nullable = true)\n",
      " |-- service_zone: string (nullable = true)\n",
      "\n"
     ]
    }
   ],
   "source": [
    "zones_df_join.printSchema()"
   ]
  },
  {
   "cell_type": "code",
   "execution_count": 43,
   "id": "c92989e3-1e22-48d3-bb88-c107e743ab09",
   "metadata": {},
   "outputs": [],
   "source": [
    "zones_df_join.drop('zone', 'LocationID').write.parquet('data/report/zones_revenue', mode='overwrite')"
   ]
  },
  {
   "cell_type": "code",
   "execution_count": null,
   "id": "3d00fb88-6a74-41f7-8221-1e4aa7793040",
   "metadata": {},
   "outputs": [],
   "source": []
  }
 ],
 "metadata": {
  "kernelspec": {
   "display_name": "Python 3 (ipykernel)",
   "language": "python",
   "name": "python3"
  },
  "language_info": {
   "codemirror_mode": {
    "name": "ipython",
    "version": 3
   },
   "file_extension": ".py",
   "mimetype": "text/x-python",
   "name": "python",
   "nbconvert_exporter": "python",
   "pygments_lexer": "ipython3",
   "version": "3.11.8"
  }
 },
 "nbformat": 4,
 "nbformat_minor": 5
}
