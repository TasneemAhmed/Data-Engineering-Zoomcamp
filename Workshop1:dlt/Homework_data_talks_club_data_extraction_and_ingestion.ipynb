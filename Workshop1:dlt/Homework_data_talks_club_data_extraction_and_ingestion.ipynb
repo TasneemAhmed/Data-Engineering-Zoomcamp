{
  "cells": [
    {
      "cell_type": "markdown",
      "metadata": {
        "id": "mrTFv5nPClXh"
      },
      "source": [
        "# **Homework**: Data talks club data engineering zoomcamp Data loading workshop\n",
        "\n",
        "Hello folks, let's practice what we learned - Loading data with the best practices of data engineering.\n",
        "\n",
        "Here are the exercises we will do\n",
        "\n",
        "\n"
      ]
    },
    {
      "cell_type": "markdown",
      "metadata": {
        "id": "wLF4iXf-NR7t"
      },
      "source": [
        "# 1. Use a generator\n",
        "\n",
        "Remember the concept of generator? Let's practice using them to futher our understanding of how they work.\n",
        "\n",
        "Let's define a generator and then run it as practice.\n",
        "\n",
        "**Answer the following questions:**\n",
        "\n",
        "- **Question 1: What is the sum of the outputs of the generator for limit = 5?**\n",
        "- **Question 2: What is the 13th number yielded**\n",
        "\n",
        "I suggest practicing these questions without GPT as the purpose is to further your learning."
      ]
    },
    {
      "cell_type": "code",
      "execution_count": 2,
      "metadata": {
        "colab": {
          "base_uri": "https://localhost:8080/"
        },
        "id": "wLng-bDJN4jf",
        "outputId": "3e36ccf4-c99f-4423-c76b-7fc424c5238f"
      },
      "outputs": [
        {
          "name": "stdout",
          "output_type": "stream",
          "text": [
            "1.0\n",
            "1.4142135623730951\n",
            "1.7320508075688772\n",
            "2.0\n",
            "2.23606797749979\n",
            "2.449489742783178\n",
            "2.6457513110645907\n",
            "2.8284271247461903\n",
            "3.0\n",
            "3.1622776601683795\n",
            "3.3166247903554\n",
            "3.4641016151377544\n",
            "3.605551275463989\n"
          ]
        }
      ],
      "source": [
        "def square_root_generator(limit):\n",
        "    n = 1\n",
        "    while n <= limit:\n",
        "        yield n ** 0.5\n",
        "        n += 1\n",
        "\n",
        "# Example usage:\n",
        "limit = 13\n",
        "generator = square_root_generator(limit)\n",
        "\n",
        "for sqrt_value in generator:\n",
        "    print(sqrt_value)\n"
      ]
    },
    {
      "cell_type": "markdown",
      "metadata": {
        "id": "xbe3q55zN43j"
      },
      "source": [
        "\n",
        "\n",
        "## Answers\n",
        "\n",
        "Q1-> C: 8.382332347441762\n",
        "\n",
        "Q2-> B: 3.605551275463989\n",
        "\n"
      ]
    },
    {
      "cell_type": "markdown",
      "metadata": {
        "id": "kKB2GTB9oVjr"
      },
      "source": [
        "# Solution: First make sure that the following modules are installed:"
      ]
    },
    {
      "cell_type": "code",
      "execution_count": 3,
      "metadata": {
        "id": "xTVvtyqrfVNq"
      },
      "outputs": [],
      "source": [
        "#Install the dependencies\n",
        "%%capture\n",
        "!pip install dlt[duckdb]"
      ]
    },
    {
      "cell_type": "markdown",
      "metadata": {
        "id": "vjWhILzGJMpK"
      },
      "source": [
        "# 2. Append a generator to a table with existing data\n",
        "\n",
        "\n",
        "Below you have 2 generators. You will be tasked to load them to duckdb and answer some questions from the data\n",
        "\n",
        "1. Load the first generator and calculate the sum of ages of all people. Make sure to only load it once.\n",
        "2. Append the second generator to the same table as the first.\n",
        "3. **After correctly appending the data, calculate the sum of all ages of people.**\n",
        "\n",
        "\n"
      ]
    },
    {
      "cell_type": "code",
      "execution_count": 26,
      "metadata": {
        "colab": {
          "base_uri": "https://localhost:8080/"
        },
        "id": "2MoaQcdLBEk6",
        "outputId": "649c39a4-f6cd-4fd7-c922-173af2d25ec6"
      },
      "outputs": [
        {
          "name": "stdout",
          "output_type": "stream",
          "text": [
            "{'ID': 1, 'Name': 'Person_1', 'Age': 26, 'City': 'City_A'}\n",
            "{'ID': 2, 'Name': 'Person_2', 'Age': 27, 'City': 'City_A'}\n",
            "{'ID': 3, 'Name': 'Person_3', 'Age': 28, 'City': 'City_A'}\n",
            "{'ID': 4, 'Name': 'Person_4', 'Age': 29, 'City': 'City_A'}\n",
            "{'ID': 5, 'Name': 'Person_5', 'Age': 30, 'City': 'City_A'}\n",
            "{'ID': 3, 'Name': 'Person_3', 'Age': 33, 'City': 'City_B', 'Occupation': 'Job_3'}\n",
            "{'ID': 4, 'Name': 'Person_4', 'Age': 34, 'City': 'City_B', 'Occupation': 'Job_4'}\n",
            "{'ID': 5, 'Name': 'Person_5', 'Age': 35, 'City': 'City_B', 'Occupation': 'Job_5'}\n",
            "{'ID': 6, 'Name': 'Person_6', 'Age': 36, 'City': 'City_B', 'Occupation': 'Job_6'}\n",
            "{'ID': 7, 'Name': 'Person_7', 'Age': 37, 'City': 'City_B', 'Occupation': 'Job_7'}\n",
            "{'ID': 8, 'Name': 'Person_8', 'Age': 38, 'City': 'City_B', 'Occupation': 'Job_8'}\n"
          ]
        }
      ],
      "source": [
        "def people_1():\n",
        "    for i in range(1, 6):\n",
        "        yield {\"ID\": i, \"Name\": f\"Person_{i}\", \"Age\": 25 + i, \"City\": \"City_A\"}\n",
        "\n",
        "for person in people_1():\n",
        "    print(person)\n",
        "\n",
        "\n",
        "def people_2():\n",
        "    for i in range(3, 9):\n",
        "        yield {\"ID\": i, \"Name\": f\"Person_{i}\", \"Age\": 30 + i, \"City\": \"City_B\", \"Occupation\": f\"Job_{i}\"}\n",
        "\n",
        "\n",
        "for person in people_2():\n",
        "    print(person)\n"
      ]
    },
    {
      "cell_type": "code",
      "execution_count": 6,
      "metadata": {
        "colab": {
          "base_uri": "https://localhost:8080/"
        },
        "id": "snM7om7Qe-oZ",
        "outputId": "a1e44618-eabc-4130-ea5d-3c28eb6ea0b5"
      },
      "outputs": [
        {
          "name": "stdout",
          "output_type": "stream",
          "text": [
            "Pipeline dlt_colab_kernel_launcher load step completed in 0.42 seconds\n",
            "1 load package(s) were loaded to destination duckdb and into dataset persons_data\n",
            "The duckdb destination used duckdb:////content/dlt_colab_kernel_launcher.duckdb location to store data\n",
            "Load package 1707912491.5244505 is LOADED and contains no failed jobs\n"
          ]
        }
      ],
      "source": [
        "import dlt\n",
        "\n",
        "# Define duckdb connection with dataset_name = 'persons_data'\n",
        "pipeline = dlt.pipeline(destination='duckdb', dataset_name='persons_data')\n",
        "\n",
        "# first load people_1() generator into \"persons\" table\n",
        "info = pipeline.run(people_1(), table_name=\"persons\")\n",
        "\n",
        "print(info)\n",
        "\n"
      ]
    },
    {
      "cell_type": "code",
      "execution_count": 14,
      "metadata": {
        "colab": {
          "base_uri": "https://localhost:8080/"
        },
        "id": "lHYr46APhRCE",
        "outputId": "75860a71-fbdb-4976-b8d2-3c406b07ebd4"
      },
      "outputs": [
        {
          "name": "stdout",
          "output_type": "stream",
          "text": [
            "┌───────┬──────────┬───────┬─────────┬────────────────────┬────────────────┐\n",
            "│  id   │   name   │  age  │  city   │    _dlt_load_id    │    _dlt_id     │\n",
            "│ int64 │ varchar  │ int64 │ varchar │      varchar       │    varchar     │\n",
            "├───────┼──────────┼───────┼─────────┼────────────────────┼────────────────┤\n",
            "│     1 │ Person_1 │    26 │ City_A  │ 1707912491.5244505 │ zlZNhVzNFXcKnw │\n",
            "│     2 │ Person_2 │    27 │ City_A  │ 1707912491.5244505 │ ty1HpKplk7nctA │\n",
            "│     3 │ Person_3 │    28 │ City_A  │ 1707912491.5244505 │ L6EH9qOMGfjTIw │\n",
            "│     4 │ Person_4 │    29 │ City_A  │ 1707912491.5244505 │ XkVIvCRBQODthw │\n",
            "│     5 │ Person_5 │    30 │ City_A  │ 1707912491.5244505 │ hNP4RwLDjNY40w │\n",
            "└───────┴──────────┴───────┴─────────┴────────────────────┴────────────────┘\n",
            "\n",
            "┌──────────┐\n",
            "│ sum(age) │\n",
            "│  int128  │\n",
            "├──────────┤\n",
            "│      140 │\n",
            "└──────────┘\n",
            "\n"
          ]
        }
      ],
      "source": [
        "# calculate the sum of ages of all people_1\n",
        "import duckdb\n",
        "#connect to duckdb with pipeline\n",
        "conn = duckdb.connect(f\"{pipeline.pipeline_name}.duckdb\")\n",
        "\n",
        "#from connecting pipeline, connect to dataset (set dataset path)\n",
        "conn.sql(f\"SET search_path = {pipeline.dataset_name}\")\n",
        "\n",
        "\n",
        "select_table = conn.sql(\"select * from persons\")\n",
        "print(select_table)\n",
        "\n",
        "# calculate the sum of ages of all people_1\n",
        "sum_ages_people_1 = conn.sql(\"select sum(age) from persons\")\n",
        "print(sum_ages_people_1)"
      ]
    },
    {
      "cell_type": "code",
      "execution_count": 15,
      "metadata": {
        "colab": {
          "base_uri": "https://localhost:8080/"
        },
        "id": "PEhNoTWwgekf",
        "outputId": "bfe3d499-7d31-471a-ae8e-124b73ec932f"
      },
      "outputs": [
        {
          "name": "stdout",
          "output_type": "stream",
          "text": [
            "Pipeline dlt_colab_kernel_launcher load step completed in 0.24 seconds\n",
            "1 load package(s) were loaded to destination duckdb and into dataset persons_data\n",
            "The duckdb destination used duckdb:////content/dlt_colab_kernel_launcher.duckdb location to store data\n",
            "Load package 1707914068.8244052 is LOADED and contains no failed jobs\n"
          ]
        }
      ],
      "source": [
        "# Second load people_2() generator into \"persons\" table with append mode\n",
        "info = pipeline.run(people_2(), table_name=\"persons\", write_disposition=\"append\")\n",
        "\n",
        "print(info)"
      ]
    },
    {
      "cell_type": "code",
      "execution_count": 24,
      "metadata": {
        "colab": {
          "base_uri": "https://localhost:8080/"
        },
        "id": "u6z-M5XYnKit",
        "outputId": "a8455d18-3d72-48f6-e8b6-532849edc55f"
      },
      "outputs": [
        {
          "name": "stdout",
          "output_type": "stream",
          "text": [
            "┌───────┬──────────┬───────┬─────────┬────────────────────┬────────────────┬────────────┐\n",
            "│  id   │   name   │  age  │  city   │    _dlt_load_id    │    _dlt_id     │ occupation │\n",
            "│ int64 │ varchar  │ int64 │ varchar │      varchar       │    varchar     │  varchar   │\n",
            "├───────┼──────────┼───────┼─────────┼────────────────────┼────────────────┼────────────┤\n",
            "│     1 │ Person_1 │    26 │ City_A  │ 1707912491.5244505 │ zlZNhVzNFXcKnw │ NULL       │\n",
            "│     2 │ Person_2 │    27 │ City_A  │ 1707912491.5244505 │ ty1HpKplk7nctA │ NULL       │\n",
            "│     3 │ Person_3 │    28 │ City_A  │ 1707912491.5244505 │ L6EH9qOMGfjTIw │ NULL       │\n",
            "│     4 │ Person_4 │    29 │ City_A  │ 1707912491.5244505 │ XkVIvCRBQODthw │ NULL       │\n",
            "│     5 │ Person_5 │    30 │ City_A  │ 1707912491.5244505 │ hNP4RwLDjNY40w │ NULL       │\n",
            "│     3 │ Person_3 │    33 │ City_B  │ 1707914068.8244052 │ lMzIHE3eC7BuvA │ Job_3      │\n",
            "│     4 │ Person_4 │    34 │ City_B  │ 1707914068.8244052 │ hb/h6OBSX4rI7A │ Job_4      │\n",
            "│     5 │ Person_5 │    35 │ City_B  │ 1707914068.8244052 │ t3f2pPnr6S/DYg │ Job_5      │\n",
            "│     6 │ Person_6 │    36 │ City_B  │ 1707914068.8244052 │ xD2gkSFBHsM0QQ │ Job_6      │\n",
            "│     7 │ Person_7 │    37 │ City_B  │ 1707914068.8244052 │ QRhZDhN5AZ815Q │ Job_7      │\n",
            "│     8 │ Person_8 │    38 │ City_B  │ 1707914068.8244052 │ 0hSfhI/kWyzGXg │ Job_8      │\n",
            "├───────┴──────────┴───────┴─────────┴────────────────────┴────────────────┴────────────┤\n",
            "│ 11 rows                                                                     7 columns │\n",
            "└───────────────────────────────────────────────────────────────────────────────────────┘\n",
            "\n",
            "┌──────────┐\n",
            "│ sum(age) │\n",
            "│  int128  │\n",
            "├──────────┤\n",
            "│      353 │\n",
            "└──────────┘\n",
            "\n"
          ]
        }
      ],
      "source": [
        "people2 = conn.sql(\"select * from persons\")\n",
        "print(people2)\n",
        "\n",
        "# calculate the sum of ages of all people\n",
        "sum_ages = conn.sql(\"select sum(age) from persons\")\n",
        "print(sum_ages)"
      ]
    },
    {
      "cell_type": "markdown",
      "metadata": {
        "id": "vtdTIm4fvQCN"
      },
      "source": []
    },
    {
      "cell_type": "markdown",
      "metadata": {
        "id": "pY4cFAWOSwN1"
      },
      "source": [
        "# 3. Merge a generator\n",
        "\n",
        "Re-use the generators from Exercise 2.\n",
        "\n",
        "A table's primary key needs to be created from the start, so load your data to a new table with primary key ID.\n",
        "\n",
        "Load your first generator first, and then load the second one with merge. Since they have overlapping IDs, some of the records from the first load should be replaced by the ones from the second load.\n",
        "\n",
        "After loading, you should have a total of 8 records, and ID 3 should have age 33.\n",
        "\n",
        "Question: **Calculate the sum of ages of all the people loaded as described above.**\n"
      ]
    },
    {
      "cell_type": "code",
      "execution_count": 18,
      "metadata": {
        "colab": {
          "base_uri": "https://localhost:8080/"
        },
        "id": "a2-PRBAkGC2K",
        "outputId": "080ef997-5987-4eec-ad7b-4036bf44bb69"
      },
      "outputs": [
        {
          "name": "stdout",
          "output_type": "stream",
          "text": [
            "Pipeline dlt_colab_kernel_launcher load step completed in 0.25 seconds\n",
            "1 load package(s) were loaded to destination duckdb and into dataset persons_data\n",
            "The duckdb destination used duckdb:////content/dlt_colab_kernel_launcher.duckdb location to store data\n",
            "Load package 1707914805.0025027 is LOADED and contains no failed jobs\n"
          ]
        }
      ],
      "source": [
        "info = pipeline.run(people_1, table_name=\"persons_merge\")\n",
        "print(info)"
      ]
    },
    {
      "cell_type": "code",
      "execution_count": 19,
      "metadata": {
        "colab": {
          "base_uri": "https://localhost:8080/"
        },
        "id": "Rsh44GGUp-F0",
        "outputId": "abca717d-ff07-426f-cd67-47d55df02e52"
      },
      "outputs": [
        {
          "name": "stdout",
          "output_type": "stream",
          "text": [
            "┌───────┬──────────┬───────┬─────────┬────────────────────┬────────────────┐\n",
            "│  id   │   name   │  age  │  city   │    _dlt_load_id    │    _dlt_id     │\n",
            "│ int64 │ varchar  │ int64 │ varchar │      varchar       │    varchar     │\n",
            "├───────┼──────────┼───────┼─────────┼────────────────────┼────────────────┤\n",
            "│     1 │ Person_1 │    26 │ City_A  │ 1707914805.0025027 │ /ASQFpaf/SQ8JA │\n",
            "│     2 │ Person_2 │    27 │ City_A  │ 1707914805.0025027 │ oo1tOV4X4I6pvw │\n",
            "│     3 │ Person_3 │    28 │ City_A  │ 1707914805.0025027 │ l8Q/vOigqyvHqw │\n",
            "│     4 │ Person_4 │    29 │ City_A  │ 1707914805.0025027 │ 2shhQdHAj+tA6w │\n",
            "│     5 │ Person_5 │    30 │ City_A  │ 1707914805.0025027 │ UKDH7ClwnmWong │\n",
            "└───────┴──────────┴───────┴─────────┴────────────────────┴────────────────┘\n",
            "\n"
          ]
        }
      ],
      "source": [
        "select_people1 = conn.sql(\"select * from persons_merge\")\n",
        "print(select_people1)"
      ]
    },
    {
      "cell_type": "code",
      "execution_count": 27,
      "metadata": {
        "colab": {
          "base_uri": "https://localhost:8080/"
        },
        "id": "9dkvJmK_qNTn",
        "outputId": "e978d6a0-dc6b-4439-d96b-76dc54a9d110"
      },
      "outputs": [
        {
          "name": "stdout",
          "output_type": "stream",
          "text": [
            "Pipeline dlt_colab_kernel_launcher load step completed in 0.67 seconds\n",
            "1 load package(s) were loaded to destination duckdb and into dataset persons_data\n",
            "The duckdb destination used duckdb:////content/dlt_colab_kernel_launcher.duckdb location to store data\n",
            "Load package 1707915226.4782197 is LOADED and contains no failed jobs\n"
          ]
        }
      ],
      "source": [
        "info = pipeline.run(people_2, table_name=\"persons_merge\", write_disposition=\"merge\", primary_key=\"id\")\n",
        "print(info)"
      ]
    },
    {
      "cell_type": "code",
      "execution_count": 29,
      "metadata": {
        "colab": {
          "base_uri": "https://localhost:8080/"
        },
        "id": "pY_YgECsrkzv",
        "outputId": "5b2e176a-76f5-41dd-a168-0342d145124c"
      },
      "outputs": [
        {
          "name": "stdout",
          "output_type": "stream",
          "text": [
            "┌───────┬──────────┬───────┬─────────┬────────────────────┬────────────────┬────────────┐\n",
            "│  id   │   name   │  age  │  city   │    _dlt_load_id    │    _dlt_id     │ occupation │\n",
            "│ int64 │ varchar  │ int64 │ varchar │      varchar       │    varchar     │  varchar   │\n",
            "├───────┼──────────┼───────┼─────────┼────────────────────┼────────────────┼────────────┤\n",
            "│     1 │ Person_1 │    26 │ City_A  │ 1707914805.0025027 │ /ASQFpaf/SQ8JA │ NULL       │\n",
            "│     2 │ Person_2 │    27 │ City_A  │ 1707914805.0025027 │ oo1tOV4X4I6pvw │ NULL       │\n",
            "│     5 │ Person_5 │    35 │ City_B  │ 1707915226.4782197 │ P3Ip0bP4DZ9U5w │ Job_5      │\n",
            "│     8 │ Person_8 │    38 │ City_B  │ 1707915226.4782197 │ ZAl4YokHpjSPSA │ Job_8      │\n",
            "│     7 │ Person_7 │    37 │ City_B  │ 1707915226.4782197 │ 7SierPrrbtAiiQ │ Job_7      │\n",
            "│     4 │ Person_4 │    34 │ City_B  │ 1707915226.4782197 │ ymwiRo6Qz0YPMw │ Job_4      │\n",
            "│     3 │ Person_3 │    33 │ City_B  │ 1707915226.4782197 │ p6AtYzswHl7p0A │ Job_3      │\n",
            "│     6 │ Person_6 │    36 │ City_B  │ 1707915226.4782197 │ tVK1viXpnEl3EA │ Job_6      │\n",
            "└───────┴──────────┴───────┴─────────┴────────────────────┴────────────────┴────────────┘\n",
            "\n",
            "┌──────────────┐\n",
            "│ count_star() │\n",
            "│    int64     │\n",
            "├──────────────┤\n",
            "│            8 │\n",
            "└──────────────┘\n",
            "\n",
            "┌──────────┐\n",
            "│ sum(age) │\n",
            "│  int128  │\n",
            "├──────────┤\n",
            "│      266 │\n",
            "└──────────┘\n",
            "\n"
          ]
        }
      ],
      "source": [
        "after_merge = conn.sql(\"select * from persons_merge\")\n",
        "print(after_merge)\n",
        "\n",
        "after_merge_rows_count = conn.sql(\"select count(*) from persons_merge\")\n",
        "print(after_merge_rows_count)\n",
        "\n",
        "after_merge_sum_age = conn.sql(\"select sum(age) from persons_merge\")\n",
        "print(after_merge_sum_age)"
      ]
    }
  ],
  "metadata": {
    "colab": {
      "provenance": []
    },
    "kernelspec": {
      "display_name": "Python 3",
      "name": "python3"
    },
    "language_info": {
      "name": "python"
    }
  },
  "nbformat": 4,
  "nbformat_minor": 0
}
